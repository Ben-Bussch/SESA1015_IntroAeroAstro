{
 "cells": [
  {
   "cell_type": "markdown",
   "id": "8a74fe96",
   "metadata": {},
   "source": [
    "# Introduction to Python: creating a function\n",
    "-------------------------------------------------------------------------------------------------------------------\n",
    "In this notebook we will learn how to:\n",
    " - Create a function"
   ]
  },
  {
   "cell_type": "markdown",
   "id": "abda65ce",
   "metadata": {},
   "source": [
    "One of the most fundamental laws in Physics is [Newton's law of universal gravitation](https://en.wikipedia.org/wiki/Newton%27s_law_of_universal_gravitation). \n",
    "$$\n",
    "F = G \\frac{m_1 m_2}{r^2}\n",
    "$$\n",
    "with $F$ the gravitational force acting between two objects, $m_1$ and $m_2$ the masses of said objects, $r$ the distance between the centre of mass of these objects, and G the universal gravitational constant."
   ]
  },
  {
   "cell_type": "code",
   "execution_count": 28,
   "id": "1646cd41",
   "metadata": {},
   "outputs": [
    {
     "name": "stdout",
     "output_type": "stream",
     "text": [
      "The attraction force between the Earth and the Moon is 7.6132671239677405e+28 N\n",
      "\t or in a short-precision form: 7.613e+28 N\n"
     ]
    }
   ],
   "source": [
    "# Universal gravitational constant\n",
    "#    Source: https://en.wikipedia.org/wiki/Gravitational_constant#Modern_value\n",
    "grav_constant = 6.67430e-11\n",
    "# Earth's mass\n",
    "#    Source: https://en.wikipedia.org/wiki/Earth\n",
    "m_earth = 5.9722e24\n",
    "# Moon's mass and distance w.r.t. Earth\n",
    "#    Source: https://en.wikipedia.org/wiki/Moon\n",
    "m_moon  = 7.3420e22\n",
    "r_earth_moon = 3.844e8\n",
    "\n",
    "# Gravitational force equation\n",
    "F = grav_constant*(m_earth*m_moon)/r_earth_moon\n",
    "\n",
    "# Print results to screen\n",
    "print(\"The attraction force between the Earth and the Moon is {:} N\".format(F))\n",
    "print(\"\\t or in a short-precision form: {:.3e} N\".format(F))"
   ]
  },
  {
   "cell_type": "markdown",
   "id": "22d934bf",
   "metadata": {},
   "source": [
    "Using function to write better, more concise and easier to debug code\n",
    "-------------------------------------------------------------------------------------------------------------------\n",
    "What is a function?"
   ]
  },
  {
   "cell_type": "markdown",
   "id": "1ecc059b",
   "metadata": {},
   "source": [
    "Transforming the previous code into a function"
   ]
  },
  {
   "cell_type": "code",
   "execution_count": 29,
   "id": "7425eb91",
   "metadata": {},
   "outputs": [],
   "source": [
    "def compute_gravitational_force_between_objects(m_1, m_2, r):\n",
    "    \n",
    "    # Constants\n",
    "    G = 6.67430e-11\n",
    "    \n",
    "    # Compute gravitational force acting between two objects of mass m_1 and m_2\n",
    "    F = G*(m_1*m_2)/r\n",
    "    \n",
    "    # Return computed gravitational force\n",
    "    return F"
   ]
  },
  {
   "cell_type": "code",
   "execution_count": 30,
   "id": "c486476b",
   "metadata": {},
   "outputs": [
    {
     "data": {
      "text/plain": [
       "7.6132671239677405e+28"
      ]
     },
     "execution_count": 30,
     "metadata": {},
     "output_type": "execute_result"
    }
   ],
   "source": [
    "compute_gravitational_force_between_objects(m_earth, m_moon, r_earth_moon)"
   ]
  },
  {
   "cell_type": "code",
   "execution_count": 31,
   "id": "d8fe53ec",
   "metadata": {},
   "outputs": [
    {
     "name": "stdout",
     "output_type": "stream",
     "text": [
      "The attraction force between the Earth and the Moon is 7.613e+28 N\n"
     ]
    }
   ],
   "source": [
    "F_earth_moon = compute_gravitational_force_between_objects(m_earth, m_moon, r_earth_moon)\n",
    "print(\"The attraction force between the Earth and the Moon is {:.3e} N\".format(F_earth_moon))"
   ]
  },
  {
   "cell_type": "code",
   "execution_count": 32,
   "id": "c7623534",
   "metadata": {},
   "outputs": [
    {
     "name": "stdout",
     "output_type": "stream",
     "text": [
      "The attraction force between the Earth and the Sun is 5.284e+33 N\n"
     ]
    }
   ],
   "source": [
    "m_sun = 1.9885e30\n",
    "# Mean distance between the Sun's centre to Earth's centre\n",
    "r_earth_sun = 1.50e11\n",
    "F_earth_sun = compute_gravitational_force_between_objects(m_earth, m_sun, r_earth_sun)\n",
    "print(\"The attraction force between the Earth and the Sun is {:.3e} N\".format(F_earth_sun))"
   ]
  },
  {
   "cell_type": "code",
   "execution_count": 43,
   "id": "97729491",
   "metadata": {},
   "outputs": [
    {
     "name": "stdout",
     "output_type": "stream",
     "text": [
      "This means that the attraction force between the Earth and the Sun is\n",
      "6.941e+04 times larger than the attraction force between the Earth and the Moon.\n"
     ]
    }
   ],
   "source": [
    "print(\"This means that the attraction force between the Earth and the Sun is\")\n",
    "print(\"{:.3e} times larger than the attraction force between the Earth and the Moon.\".format(F_earth_sun/F_earth_moon))"
   ]
  }
 ],
 "metadata": {
  "kernelspec": {
   "display_name": "Python 3 (ipykernel)",
   "language": "python",
   "name": "python3"
  },
  "language_info": {
   "codemirror_mode": {
    "name": "ipython",
    "version": 3
   },
   "file_extension": ".py",
   "mimetype": "text/x-python",
   "name": "python",
   "nbconvert_exporter": "python",
   "pygments_lexer": "ipython3",
   "version": "3.9.13"
  }
 },
 "nbformat": 4,
 "nbformat_minor": 5
}
